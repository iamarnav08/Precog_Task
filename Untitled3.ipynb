{
  "cells": [
    {
      "cell_type": "markdown",
      "metadata": {
        "id": "YxM9fhB6kPAi"
      },
      "source": [
        "Now to import the datasets to be used as labels."
      ]
    },
    {
      "cell_type": "code",
      "execution_count": null,
      "metadata": {
        "id": "IJcRS91skUJu"
      },
      "outputs": [],
      "source": [
        "import os\n",
        "\n",
        "# Define paths\n",
        "BASE_DIR = \"task1/same_on_same\"\n",
        "\n",
        "EASY_IMAGES_DIR = os.path.join(BASE_DIR, \"easy_variations\")\n",
        "HARD_IMAGES_DIR = os.path.join(BASE_DIR, \"hard_variations\")\n",
        "\n",
        "EASY_LABELS_CSV = os.path.join(BASE_DIR, \"easy_variations.csv\")\n",
        "HARD_LABELS_CSV = os.path.join(BASE_DIR, \"hard_variations.csv\")\n"
      ]
    },
    {
      "cell_type": "markdown",
      "metadata": {
        "id": "61XGcGQd5eit"
      },
      "source": [
        "Now that we have loaded the dataset, we will make the dataset.\n"
      ]
    },
    {
      "cell_type": "code",
      "execution_count": 1,
      "metadata": {
        "id": "eErDQrI95mSY"
      },
      "outputs": [],
      "source": [
        "import torch\n",
        "from torch.utils.data import Dataset, DataLoader\n",
        "import torchvision.transforms as transforms\n",
        "from PIL import Image\n",
        "import pandas as pd\n",
        "\n",
        "class WordImageDataset(Dataset):\n",
        "    def __init__(self, csv_file, image_folder, transform=None):\n",
        "        self.data = pd.read_csv(csv_file)  # Read CSV file\n",
        "        self.image_folder = image_folder  # Folder where images are stored\n",
        "        self.transform = transform  # Image transformations (optional)\n",
        "\n",
        "    def __len__(self):\n",
        "        return len(self.data)  # Returns number of images in dataset\n",
        "\n",
        "    def __getitem__(self, idx):\n",
        "        img_name = os.path.join(self.image_folder, self.data.iloc[idx, 0])  # Get image filename\n",
        "        image = Image.open(img_name).convert(\"RGB\")  # Open image and convert to RGB\n",
        "        label = self.data.iloc[idx, 1]  # Get label from CSV\n",
        "\n",
        "        if self.transform:\n",
        "            image = self.transform(image)  # Apply transformations\n",
        "\n",
        "        return image, label  # Return image + label\n",
        "\n",
        "\n",
        "easy_dataset = WordImageDataset(EASY_LABELS_CSV, EASY_IMAGES_DIR, transform)\n",
        "hard_dataset = WordImageDataset(HARD_LABELS_CSV, HARD_IMAGES_DIR, transform)\n"
      ]
    },
    {
      "cell_type": "code",
      "execution_count": 2,
      "metadata": {
        "id": "L5SKBegd6hJq"
      },
      "outputs": [],
      "source": [
        "# Transformation function will be put here."
      ]
    },
    {
      "cell_type": "markdown",
      "metadata": {
        "id": "X5RnVT0V7KQM"
      },
      "source": [
        "We will split the dataset we have created into Training and Testing sets.\n",
        "There are 1000 images per easy and hard datasets. We will take 20% for the testing dataset.\n"
      ]
    },
    {
      "cell_type": "code",
      "execution_count": null,
      "metadata": {
        "id": "97p82E9N7OhY"
      },
      "outputs": [],
      "source": [
        "from torch.utils.data import random_split\n",
        "\n",
        "# Defining train-test partition (80% train, 20% test)\n",
        "train_size = int(0.8 * len(easy_dataset))\n",
        "test_size = len(easy_dataset) - train_size\n",
        "\n",
        "easy_train, easy_test = random_split(easy_dataset, [train_size, test_size])\n",
        "hard_train, hard_test = random_split(hard_dataset, [train_size, test_size])\n",
        "\n",
        "# Creating DataLoaders\n",
        "batch_size = 32\n",
        "train_loader = DataLoader(easy_train + hard_train, batch_size=batch_size, shuffle=True)\n",
        "test_loader = DataLoader(easy_test + hard_test, batch_size=batch_size, shuffle=False)\n"
      ]
    }
  ],
  "metadata": {
    "colab": {
      "provenance": []
    },
    "kernelspec": {
      "display_name": "Python 3",
      "name": "python3"
    },
    "language_info": {
      "name": "python"
    }
  },
  "nbformat": 4,
  "nbformat_minor": 0
}
